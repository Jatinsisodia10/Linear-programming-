{
 "cells": [
  {
   "cell_type": "markdown",
   "id": "ff097edf-1e23-49b3-be1c-558e68617318",
   "metadata": {},
   "source": [
    "### Product Mix Problem:\r\n",
    "A Company produces 3 paints (interior, exterior and theme) from two raw materials, M1 and M2.\r\n",
    "\r\n",
    "### Decision Variables:\r\n",
    "- $x_1$: Amount of exterior paint produced daily  \r\n",
    "- $x_2$: Amount of interior paint produced daily  \r\n",
    "- $x_3$: Amount of theme paint produced daily  \r\n",
    "\r\n",
    "### Objective Function:\r\n",
    "Maximizes the total daily profit  \r\n",
    "\r\n",
    "\\[\r\n",
    "\\begin{align}\r\n",
    "\\text{max} \\quad Z &= 1500x_1 + 2500x_2 + 3500x_3 \\\\\r\n",
    "\\text{s.t.} \\quad 2x_1 + 2x_2 + 3x_3 &\\leq 14 \\\\\r\n",
    "\\quad x_2 + 2x_3 &\\leq 5 \\\\\r\n",
    "\\quad x_1 &\\geq 0 \\\\\r\n",
    "\\quad x_2 &\\geq 0 \\\\\r\n",
    "\\quad x_3 &\\geq 0 \\\\\r\n",
    "\\end{align}\r\n",
    "\\]\r\n",
    "\r\n",
    "PuLP uses LP solvers (e.g., GLPK, COIN CLP/CBC, CPLEX, and GUROBI) to solve linear problems.  \r\n",
    "To install PuLP, in a Command Prompt, type in `pip install pulp`\r\n"
   ]
  },
  {
   "cell_type": "markdown",
   "id": "6f2cf592-8b7f-4c58-935d-bfe28535ba6a",
   "metadata": {},
   "source": [
    "# 1st Approch"
   ]
  },
  {
   "cell_type": "code",
   "execution_count": 1,
   "id": "61ae0e2c-40e1-4abd-a1c4-af8903e0dcca",
   "metadata": {},
   "outputs": [],
   "source": [
    "# importing PuLP modeler function\n",
    "from pulp import *"
   ]
  },
  {
   "cell_type": "code",
   "execution_count": 2,
   "id": "fb8b3208-c2e9-4815-a71c-079e3784bd2f",
   "metadata": {},
   "outputs": [],
   "source": [
    "# create a LP maximization problem\n",
    "pm = LpProblem(\"Product_mix\", LpMaximize)"
   ]
  },
  {
   "cell_type": "code",
   "execution_count": 3,
   "id": "830aa83a-3c91-48c3-9e41-0c8a19ffb76c",
   "metadata": {},
   "outputs": [],
   "source": [
    "# LpVariable(variable name, lower Bound = none, upper bound = none, catagory = 'continuous')\n",
    "x1 = LpVariable(\"x1\",0,None,LpContinuous) # creating a variables x1, x2, x3 >= 0\n",
    "x2 = LpVariable(\"x2\",0,None,LpContinuous)\n",
    "x3 = LpVariable(\"x3\",0,None,LpContinuous)"
   ]
  },
  {
   "cell_type": "code",
   "execution_count": 4,
   "id": "333e9665-775f-472b-8aed-e2061ba69a09",
   "metadata": {},
   "outputs": [],
   "source": [
    "# OBJECT FUNCTION\n",
    "pm += 1500*x1 + 2500*x2 + 3500*x3"
   ]
  },
  {
   "cell_type": "code",
   "execution_count": 5,
   "id": "c8bda960-0c77-46e6-9584-b06ec14b97f0",
   "metadata": {},
   "outputs": [],
   "source": [
    "# constrains\n",
    "pm += 2*x1 + 2*x2 + 3*x3 <=14\n",
    "pm += 0*x1 + 1*x2 + 2*x3 <=5"
   ]
  },
  {
   "cell_type": "code",
   "execution_count": 6,
   "id": "e50f7b8b-4854-41f3-ad06-52a0dc2f12e5",
   "metadata": {},
   "outputs": [
    {
     "data": {
      "text/plain": [
       "Product_mix:\n",
       "MAXIMIZE\n",
       "1500*x1 + 2500*x2 + 3500*x3 + 0\n",
       "SUBJECT TO\n",
       "_C1: 2 x1 + 2 x2 + 3 x3 <= 14\n",
       "\n",
       "_C2: x2 + 2 x3 <= 5\n",
       "\n",
       "VARIABLES\n",
       "x1 Continuous\n",
       "x2 Continuous\n",
       "x3 Continuous"
      ]
     },
     "execution_count": 6,
     "metadata": {},
     "output_type": "execute_result"
    }
   ],
   "source": [
    "# displaying the LP problem\n",
    "pm"
   ]
  },
  {
   "cell_type": "code",
   "execution_count": 7,
   "id": "569e8e4e-c768-484a-8cd6-c762ba008e2c",
   "metadata": {},
   "outputs": [
    {
     "data": {
      "text/plain": [
       "1"
      ]
     },
     "execution_count": 7,
     "metadata": {},
     "output_type": "execute_result"
    }
   ],
   "source": [
    "# solving with the default solver\n",
    "pm.solve()"
   ]
  },
  {
   "cell_type": "code",
   "execution_count": 8,
   "id": "41590268-b9ab-45fe-8d0e-6e3d90687b2f",
   "metadata": {},
   "outputs": [
    {
     "name": "stdout",
     "output_type": "stream",
     "text": [
      "solution_status: Optimal\n"
     ]
    }
   ],
   "source": [
    "# printing the solution status\n",
    "print(\"solution_status:\", LpStatus[pm.status])"
   ]
  },
  {
   "cell_type": "code",
   "execution_count": 9,
   "id": "e6e5442e-1267-4163-ab64-c43cd9d60893",
   "metadata": {},
   "outputs": [
    {
     "name": "stdout",
     "output_type": "stream",
     "text": [
      "x1 = 2.0\n",
      "x2 = 5.0\n",
      "x3 = 0.0\n"
     ]
    }
   ],
   "source": [
    "for v in pm.variables():\n",
    "    print(v.name, \"=\", v.varValue)"
   ]
  },
  {
   "cell_type": "code",
   "execution_count": 10,
   "id": "0575fa2a-05ba-4283-b436-284a0ac2221d",
   "metadata": {},
   "outputs": [
    {
     "name": "stdout",
     "output_type": "stream",
     "text": [
      "objective = 15500.0\n"
     ]
    }
   ],
   "source": [
    "# Profit we are getting\n",
    "print(\"objective =\", value(pm.objective))"
   ]
  },
  {
   "cell_type": "markdown",
   "id": "fc979d4b-1b9f-4e17-b1c6-3787c8dd9061",
   "metadata": {},
   "source": [
    "# 2nd Approch"
   ]
  },
  {
   "cell_type": "code",
   "execution_count": 11,
   "id": "d80d86fd-f767-43d5-be25-1abf5a6771bf",
   "metadata": {},
   "outputs": [],
   "source": [
    "# using list and dictionary"
   ]
  },
  {
   "cell_type": "code",
   "execution_count": 22,
   "id": "313652be-37cf-466c-bbc8-9dab26ba7a0f",
   "metadata": {},
   "outputs": [],
   "source": [
    "# lets create list\n",
    "Paints = [\"Exterior Paint\", \"Interior Paint\", \"Theme Paint\"]"
   ]
  },
  {
   "cell_type": "code",
   "execution_count": 13,
   "id": "1c7e12f6-2847-41d4-846d-44c2d05c2ddd",
   "metadata": {},
   "outputs": [],
   "source": [
    "# now making dictionary for profit, RM1 and RM2\n",
    "Profit = {\"Exterior Paint\":1500,\n",
    "          \"Interior Paint\": 2500,\n",
    "          \"Theme Paint\": 3500}\n",
    "# now for raw material\n",
    "Raw_Material_M1 = {\"Exterior Paint\": 2,\n",
    "                   \"Interior Paint\": 2,\n",
    "                   \"Theme Paint\": 3}\n",
    "Raw_Material_M2 = {\"Exterior Paint\": 0,\n",
    "                   \"Interior Paint\": 1,\n",
    "                   \"Theme Paint\": 2}"
   ]
  },
  {
   "cell_type": "code",
   "execution_count": 16,
   "id": "5e6fa2fd-a938-468b-a502-3f5ef10b94a4",
   "metadata": {},
   "outputs": [],
   "source": [
    "# Creating a LP maximization problem\n",
    "pm1 = LpProblem(\"Product_Mix\", LpMaximize)"
   ]
  },
  {
   "cell_type": "markdown",
   "id": "7e7dc5da-bc72-4202-aba6-b11232fc9564",
   "metadata": {},
   "source": [
    "    Creates a dictionary of LP variables.\n",
    "\n",
    "    Parameters:\n",
    "    name (str): Prefix for the variable names.\n",
    "    indexs (list): List of keys for the dictionary.\n",
    "    lowBound (float, optional): Lower bound for the variables. Defaults to None.\n",
    "    upBound (float, optional): Upper bound for the variables. Defaults to None.\n",
    "    cat (LpCategory, optional): Category of variables (Integer, Continuous). Defaults \n",
    "    to LpContinuous.\n",
    "\n",
    "    Returns:\n",
    "    dict: A dictionary of LP variables."
   ]
  },
  {
   "cell_type": "code",
   "execution_count": 26,
   "id": "afc98aa6-e7ae-4b24-a3a0-1d5a787423c7",
   "metadata": {},
   "outputs": [],
   "source": [
    "paint_vars = LpVariable.dicts(\"Paint\",Paints,0)"
   ]
  },
  {
   "cell_type": "code",
   "execution_count": 29,
   "id": "2c5ab2bb-9492-4c9c-aba9-c4aeac8b824a",
   "metadata": {},
   "outputs": [],
   "source": [
    "# Add objective function to the \"prob\"\n",
    "# LpSum(vector): calculate the sum of a list of linear expressions\n",
    "pm1 += lpSum(Profit[i]*paint_vars[i] for i in Paints)"
   ]
  },
  {
   "cell_type": "code",
   "execution_count": 31,
   "id": "ce997eb4-defd-4aae-9b9d-c88522c5270a",
   "metadata": {},
   "outputs": [],
   "source": [
    "# adding the constrains\n",
    "pm1 += lpSum([Raw_Material_M1[i]*paint_vars[i] for i in Paints])<=14\n",
    "pm1 += lpSum([Raw_Material_M2[i]*paint_vars[i] for i in Paints])<=5"
   ]
  },
  {
   "cell_type": "code",
   "execution_count": 33,
   "id": "80096c0b-2d8c-4a5d-bf3b-d5cd55f60732",
   "metadata": {},
   "outputs": [
    {
     "data": {
      "text/plain": [
       "1"
      ]
     },
     "execution_count": 33,
     "metadata": {},
     "output_type": "execute_result"
    }
   ],
   "source": [
    "pm1.solve()"
   ]
  },
  {
   "cell_type": "code",
   "execution_count": 34,
   "id": "368fbe54-4457-4930-bac2-893575fd955d",
   "metadata": {},
   "outputs": [
    {
     "name": "stdout",
     "output_type": "stream",
     "text": [
      "\n",
      " Solution Status: Optimal \n",
      "\n"
     ]
    }
   ],
   "source": [
    "# print the solution status\n",
    "print(\"\\n\", \"Solution Status:\", LpStatus[pm1.status],\"\\n\")"
   ]
  },
  {
   "cell_type": "code",
   "execution_count": 35,
   "id": "0b3e7250-6ef1-4973-9ae7-851f428b3e36",
   "metadata": {},
   "outputs": [
    {
     "name": "stdout",
     "output_type": "stream",
     "text": [
      "\t Paint_Exterior_Paint = 2.0 tons\n",
      "\t Paint_Interior_Paint = 5.0 tons\n",
      "\t Paint_Theme_Paint = 0.0 tons\n"
     ]
    }
   ],
   "source": [
    "# showing the solution\n",
    "for v in pm1.variables():\n",
    "    print(\"\\t\", v.name,\"=\",v.varValue,\"tons\")"
   ]
  },
  {
   "cell_type": "code",
   "execution_count": null,
   "id": "d7f44e47-05ca-4877-b7cf-68af18133b12",
   "metadata": {},
   "outputs": [],
   "source": []
  }
 ],
 "metadata": {
  "kernelspec": {
   "display_name": "Python 3 (ipykernel)",
   "language": "python",
   "name": "python3"
  },
  "language_info": {
   "codemirror_mode": {
    "name": "ipython",
    "version": 3
   },
   "file_extension": ".py",
   "mimetype": "text/x-python",
   "name": "python",
   "nbconvert_exporter": "python",
   "pygments_lexer": "ipython3",
   "version": "3.11.7"
  },
  "widgets": {
   "application/vnd.jupyter.widget-state+json": {
    "state": {},
    "version_major": 2,
    "version_minor": 0
   }
  }
 },
 "nbformat": 4,
 "nbformat_minor": 5
}
