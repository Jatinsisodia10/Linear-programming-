{
 "cells": [
  {
   "cell_type": "markdown",
   "id": "ff097edf-1e23-49b3-be1c-558e68617318",
   "metadata": {},
   "source": [
    "### Product Mix Problem:\r\n",
    "A Company produces 3 paints (interior, exterior and theme) from two raw materials, M1 and M2.\r\n",
    "\r\n",
    "### Decision Variables:\r\n",
    "- $x_1$: Amount of exterior paint produced daily  \r\n",
    "- $x_2$: Amount of interior paint produced daily  \r\n",
    "- $x_3$: Amount of theme paint produced daily  \r\n",
    "\r\n",
    "### Objective Function:\r\n",
    "Maximizes the total daily profit  \r\n",
    "\r\n",
    "\\[\r\n",
    "\\begin{align}\r\n",
    "\\text{max} \\quad Z &= 1500x_1 + 2500x_2 + 3500x_3 \\\\\r\n",
    "\\text{s.t.} \\quad 2x_1 + 2x_2 + 3x_3 &\\leq 14 \\\\\r\n",
    "\\quad x_2 + 2x_3 &\\leq 5 \\\\\r\n",
    "\\quad x_1 &\\geq 0 \\\\\r\n",
    "\\quad x_2 &\\geq 0 \\\\\r\n",
    "\\quad x_3 &\\geq 0 \\\\\r\n",
    "\\end{align}\r\n",
    "\\]\r\n",
    "\r\n",
    "PuLP uses LP solvers (e.g., GLPK, COIN CLP/CBC, CPLEX, and GUROBI) to solve linear problems.  \r\n",
    "To install PuLP, in a Command Prompt, type in `pip install pulp`\r\n"
   ]
  },
  {
   "cell_type": "code",
   "execution_count": 36,
   "id": "61ae0e2c-40e1-4abd-a1c4-af8903e0dcca",
   "metadata": {},
   "outputs": [],
   "source": [
    "# importing PuLP modeler function\n",
    "from pulp import *"
   ]
  },
  {
   "cell_type": "code",
   "execution_count": 37,
   "id": "fb8b3208-c2e9-4815-a71c-079e3784bd2f",
   "metadata": {},
   "outputs": [],
   "source": [
    "# create a LP maximization problem\n",
    "pm = LpProblem(\"Product_mix\", LpMaximize)"
   ]
  },
  {
   "cell_type": "code",
   "execution_count": 38,
   "id": "830aa83a-3c91-48c3-9e41-0c8a19ffb76c",
   "metadata": {},
   "outputs": [],
   "source": [
    "# LpVariable(variable name, lower Bound = none, upper bound = none, catagory = 'continuous')\n",
    "x1 = LpVariable(\"x1\",0,None,LpContinuous) # creating a variables x1, x2, x3 >= 0\n",
    "x2 = LpVariable(\"x2\",0,None,LpContinuous)\n",
    "x3 = LpVariable(\"x3\",0,None,LpContinuous)"
   ]
  },
  {
   "cell_type": "code",
   "execution_count": 39,
   "id": "333e9665-775f-472b-8aed-e2061ba69a09",
   "metadata": {},
   "outputs": [],
   "source": [
    "# OBJECT FUNCTION\n",
    "pm += 1500*x1 + 2500*x2 + 3500*x3"
   ]
  },
  {
   "cell_type": "code",
   "execution_count": 40,
   "id": "c8bda960-0c77-46e6-9584-b06ec14b97f0",
   "metadata": {},
   "outputs": [],
   "source": [
    "# constrains\n",
    "pm += 2*x1 + 2*x2 + 3*x3 <=14\n",
    "pm += 0*x1 + 1*x2 + 2*x3 <=5"
   ]
  },
  {
   "cell_type": "code",
   "execution_count": 41,
   "id": "e50f7b8b-4854-41f3-ad06-52a0dc2f12e5",
   "metadata": {},
   "outputs": [
    {
     "data": {
      "text/plain": [
       "Product_mix:\n",
       "MAXIMIZE\n",
       "1500*x1 + 2500*x2 + 3500*x3 + 0\n",
       "SUBJECT TO\n",
       "_C1: 2 x1 + 2 x2 + 3 x3 <= 14\n",
       "\n",
       "_C2: x2 + 2 x3 <= 5\n",
       "\n",
       "VARIABLES\n",
       "x1 Continuous\n",
       "x2 Continuous\n",
       "x3 Continuous"
      ]
     },
     "execution_count": 41,
     "metadata": {},
     "output_type": "execute_result"
    }
   ],
   "source": [
    "# displaying the LP problem\n",
    "pm"
   ]
  },
  {
   "cell_type": "code",
   "execution_count": 42,
   "id": "569e8e4e-c768-484a-8cd6-c762ba008e2c",
   "metadata": {},
   "outputs": [
    {
     "data": {
      "text/plain": [
       "1"
      ]
     },
     "execution_count": 42,
     "metadata": {},
     "output_type": "execute_result"
    }
   ],
   "source": [
    "# solving with the default solver\n",
    "pm.solve()"
   ]
  },
  {
   "cell_type": "code",
   "execution_count": 43,
   "id": "41590268-b9ab-45fe-8d0e-6e3d90687b2f",
   "metadata": {},
   "outputs": [
    {
     "name": "stdout",
     "output_type": "stream",
     "text": [
      "solution_status: Optimal\n"
     ]
    }
   ],
   "source": [
    "# printing the solution status\n",
    "print(\"solution_status:\", LpStatus[pm.status])"
   ]
  },
  {
   "cell_type": "code",
   "execution_count": 44,
   "id": "e6e5442e-1267-4163-ab64-c43cd9d60893",
   "metadata": {},
   "outputs": [
    {
     "name": "stdout",
     "output_type": "stream",
     "text": [
      "x1 = 2.0\n",
      "x2 = 5.0\n",
      "x3 = 0.0\n"
     ]
    }
   ],
   "source": [
    "for v in pm.variables():\n",
    "    print(v.name, \"=\", v.varValue)"
   ]
  },
  {
   "cell_type": "code",
   "execution_count": 45,
   "id": "0575fa2a-05ba-4283-b436-284a0ac2221d",
   "metadata": {},
   "outputs": [
    {
     "name": "stdout",
     "output_type": "stream",
     "text": [
      "objective = 15500.0\n"
     ]
    }
   ],
   "source": [
    "# Profit we are getting\n",
    "print(\"objective =\", value(pm.objective))"
   ]
  }
 ],
 "metadata": {
  "kernelspec": {
   "display_name": "Python 3 (ipykernel)",
   "language": "python",
   "name": "python3"
  },
  "language_info": {
   "codemirror_mode": {
    "name": "ipython",
    "version": 3
   },
   "file_extension": ".py",
   "mimetype": "text/x-python",
   "name": "python",
   "nbconvert_exporter": "python",
   "pygments_lexer": "ipython3",
   "version": "3.11.7"
  },
  "widgets": {
   "application/vnd.jupyter.widget-state+json": {
    "state": {},
    "version_major": 2,
    "version_minor": 0
   }
  }
 },
 "nbformat": 4,
 "nbformat_minor": 5
}
